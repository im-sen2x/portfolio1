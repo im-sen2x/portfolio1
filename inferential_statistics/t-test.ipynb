{
 "cells": [
  {
   "cell_type": "code",
   "execution_count": null,
   "metadata": {},
   "outputs": [],
   "source": [
    "One thing I've learnt in my short career in Analytics is that any initiative that used stati\n",
    "I've been dabbling a lot on the stastical side of Data Science however I find "
   ]
  },
  {
   "cell_type": "code",
   "execution_count": null,
   "metadata": {},
   "outputs": [],
   "source": [
    "Most inferential statistics examples of"
   ]
  },
  {
   "cell_type": "markdown",
   "metadata": {},
   "source": [
    "# **Independent Samples T-test**"
   ]
  },
  {
   "cell_type": "markdown",
   "metadata": {},
   "source": [
    "## **Problem Statement**\n",
    "\n",
    "Imagine you just got promoted as the VP of Sales in EZSales a fast growing CRM Provider and one of your initial task for FY 2022-23 is to review if the Segment Line's **ARRs (Annual Recurring Revenue)** are well differentiated by Prospects' Employee Size. You've found out for FY 2021-22 that the **Enterpise's Average ARR is \\\\$104,919 and for Major's it's $98,586.29** although Enterprise's Average ARR is higher, does this justify having two separate Segments for the Employees Range: 500 - 4999? Or it is bettter to merge the Enterpise and Majors Teams into one Team because it seems that both segments generate the same ARR?"
   ]
  },
  {
   "cell_type": "markdown",
   "metadata": {},
   "source": [
    "### **EZSales Segment Lines (Employees)**\n",
    "\n",
    "- Enterprise++: 5000+ \n",
    "- Enterprise: 3000 - 4999\n",
    "- Majors: 500 - 2999\n",
    "- Mid Market - 100 - 499\n",
    "- SMB: 10 - 99"
   ]
  },
  {
   "cell_type": "markdown",
   "metadata": {},
   "source": [
    "### **Dataset**\n",
    "\n",
    "We'll be using a dummy samples that contain 100 ARRs of unique Accounts for each Segment (Enterprise & Majors)"
   ]
  },
  {
   "cell_type": "markdown",
   "metadata": {},
   "source": [
    "### **Hypothesis Testing**\n",
    "\n",
    "<i>**H0 (Null Hypothesis):** μ-Enterpise <= μ-Majors</i><br>\n",
    "<i>**H1 (Alternative Hypothesis):** μ-Enterpise > μ-Majors</i><br>\n",
    "<i>**t:** t-statistic</i><br>\n",
    "<i>**SE:** Standard Error</i>"
   ]
  },
  {
   "cell_type": "markdown",
   "metadata": {},
   "source": [
    "$$t = \\frac{(μ_{Enterpise} -  μ_{Majors})} {SE(!) * \\sqrt n} $$ <br>\n",
    "$$SE(!) = \\sqrt {SE_{Enterprise}^2 + SE_{Majors}^2} $$\n",
    "\n"
   ]
  },
  {
   "cell_type": "markdown",
   "metadata": {},
   "source": [
    "### **Action**\n",
    "\n",
    "Proceed with a one-tail Independent Samples T-test to see if there's statistical evidence that the higher Enterprise Mean ARR isn't purely by chance. Use **α = 0.05**<br>"
   ]
  },
  {
   "cell_type": "code",
   "execution_count": 104,
   "metadata": {},
   "outputs": [],
   "source": [
    "import pandas as pd\n",
    "import numpy as np\n",
    "\n",
    "import matplotlib.pyplot as plt\n",
    "\n",
    "import statistics\n",
    "from scipy.stats import ttest_ind"
   ]
  },
  {
   "cell_type": "code",
   "execution_count": null,
   "metadata": {},
   "outputs": [],
   "source": [
    "enterprise_majors_arr = pd.read_excel('datasets/Enterpise_Majors_ARR.xlsx')"
   ]
  },
  {
   "cell_type": "code",
   "execution_count": 431,
   "metadata": {},
   "outputs": [
    {
     "data": {
      "text/html": [
       "<div>\n",
       "<style scoped>\n",
       "    .dataframe tbody tr th:only-of-type {\n",
       "        vertical-align: middle;\n",
       "    }\n",
       "\n",
       "    .dataframe tbody tr th {\n",
       "        vertical-align: top;\n",
       "    }\n",
       "\n",
       "    .dataframe thead th {\n",
       "        text-align: right;\n",
       "    }\n",
       "</style>\n",
       "<table border=\"1\" class=\"dataframe\">\n",
       "  <thead>\n",
       "    <tr style=\"text-align: right;\">\n",
       "      <th></th>\n",
       "      <th>Enterprise (ARR)</th>\n",
       "      <th>Majors (ARR)</th>\n",
       "    </tr>\n",
       "  </thead>\n",
       "  <tbody>\n",
       "    <tr>\n",
       "      <th>0</th>\n",
       "      <td>155022</td>\n",
       "      <td>144907</td>\n",
       "    </tr>\n",
       "    <tr>\n",
       "      <th>1</th>\n",
       "      <td>41135</td>\n",
       "      <td>71646</td>\n",
       "    </tr>\n",
       "    <tr>\n",
       "      <th>2</th>\n",
       "      <td>132311</td>\n",
       "      <td>79105</td>\n",
       "    </tr>\n",
       "    <tr>\n",
       "      <th>3</th>\n",
       "      <td>142930</td>\n",
       "      <td>32333</td>\n",
       "    </tr>\n",
       "    <tr>\n",
       "      <th>4</th>\n",
       "      <td>126112</td>\n",
       "      <td>105090</td>\n",
       "    </tr>\n",
       "  </tbody>\n",
       "</table>\n",
       "</div>"
      ],
      "text/plain": [
       "   Enterprise (ARR)  Majors (ARR)\n",
       "0            155022        144907\n",
       "1             41135         71646\n",
       "2            132311         79105\n",
       "3            142930         32333\n",
       "4            126112        105090"
      ]
     },
     "execution_count": 431,
     "metadata": {},
     "output_type": "execute_result"
    }
   ],
   "source": [
    "enterprise_majors_arr.head()"
   ]
  },
  {
   "cell_type": "code",
   "execution_count": 435,
   "metadata": {},
   "outputs": [
    {
     "data": {
      "text/plain": [
       "Enterprise (ARR)    1.0\n",
       "Majors (ARR)        1.0\n",
       "dtype: float64"
      ]
     },
     "execution_count": 435,
     "metadata": {},
     "output_type": "execute_result"
    }
   ],
   "source": [
    "# Check the fill rate - no missing values\n",
    "\n",
    "enterprise_majors_arr.notna().mean()"
   ]
  },
  {
   "cell_type": "code",
   "execution_count": 436,
   "metadata": {},
   "outputs": [
    {
     "data": {
      "text/plain": [
       "(100, 2)"
      ]
     },
     "execution_count": 436,
     "metadata": {},
     "output_type": "execute_result"
    }
   ],
   "source": [
    "enterprise_majors_arr.shape"
   ]
  },
  {
   "cell_type": "code",
   "execution_count": 437,
   "metadata": {},
   "outputs": [
    {
     "data": {
      "text/html": [
       "<div>\n",
       "<style scoped>\n",
       "    .dataframe tbody tr th:only-of-type {\n",
       "        vertical-align: middle;\n",
       "    }\n",
       "\n",
       "    .dataframe tbody tr th {\n",
       "        vertical-align: top;\n",
       "    }\n",
       "\n",
       "    .dataframe thead th {\n",
       "        text-align: right;\n",
       "    }\n",
       "</style>\n",
       "<table border=\"1\" class=\"dataframe\">\n",
       "  <thead>\n",
       "    <tr style=\"text-align: right;\">\n",
       "      <th></th>\n",
       "      <th>Enterprise (ARR)</th>\n",
       "      <th>Majors (ARR)</th>\n",
       "    </tr>\n",
       "  </thead>\n",
       "  <tbody>\n",
       "    <tr>\n",
       "      <th>count</th>\n",
       "      <td>100.000000</td>\n",
       "      <td>100.000000</td>\n",
       "    </tr>\n",
       "    <tr>\n",
       "      <th>mean</th>\n",
       "      <td>104919.000000</td>\n",
       "      <td>98586.290000</td>\n",
       "    </tr>\n",
       "    <tr>\n",
       "      <th>std</th>\n",
       "      <td>28645.100611</td>\n",
       "      <td>26665.701598</td>\n",
       "    </tr>\n",
       "    <tr>\n",
       "      <th>min</th>\n",
       "      <td>30000.000000</td>\n",
       "      <td>28900.000000</td>\n",
       "    </tr>\n",
       "    <tr>\n",
       "      <th>25%</th>\n",
       "      <td>83072.000000</td>\n",
       "      <td>84817.500000</td>\n",
       "    </tr>\n",
       "    <tr>\n",
       "      <th>50%</th>\n",
       "      <td>105580.000000</td>\n",
       "      <td>101012.000000</td>\n",
       "    </tr>\n",
       "    <tr>\n",
       "      <th>75%</th>\n",
       "      <td>124809.500000</td>\n",
       "      <td>115623.000000</td>\n",
       "    </tr>\n",
       "    <tr>\n",
       "      <th>max</th>\n",
       "      <td>163186.000000</td>\n",
       "      <td>165928.000000</td>\n",
       "    </tr>\n",
       "  </tbody>\n",
       "</table>\n",
       "</div>"
      ],
      "text/plain": [
       "       Enterprise (ARR)   Majors (ARR)\n",
       "count        100.000000     100.000000\n",
       "mean      104919.000000   98586.290000\n",
       "std        28645.100611   26665.701598\n",
       "min        30000.000000   28900.000000\n",
       "25%        83072.000000   84817.500000\n",
       "50%       105580.000000  101012.000000\n",
       "75%       124809.500000  115623.000000\n",
       "max       163186.000000  165928.000000"
      ]
     },
     "execution_count": 437,
     "metadata": {},
     "output_type": "execute_result"
    }
   ],
   "source": [
    "enterprise_majors_arr.describe()"
   ]
  },
  {
   "cell_type": "markdown",
   "metadata": {},
   "source": [
    "- There are 100 ARRs for each Segment \n",
    "- The Average Enterprise ARR is slightly higher than the Average Majors ARR \n",
    "- The Enterprise ARRs are slightly more spread out than the Majors ARRs"
   ]
  },
  {
   "cell_type": "markdown",
   "metadata": {},
   "source": [
    "### **T-test Assumptions**\n",
    "\n",
    "https://www.investopedia.com/ask/answers/073115/what-assumptions-are-made-when-conducting-ttest.asp<br>\n",
    "\n",
    "1. The first assumption made regarding t-tests concerns the scale of measurement. The assumption for a t-test is that the scale of measurement applied to the data collected follows a continuous or ordinal scale, such as the scores for an IQ test.\n",
    "2. The second assumption made is that of a simple random sample, that the data is collected from a representative, randomly selected portion of the total population.\n",
    "3. The third assumption is the data, when plotted, results in a normal distribution, bell-shaped distribution curve. When a normal distribution is assumed, one can specify a level of probability (alpha level, level of significance, p) as a criterion for acceptance. In most cases, a 5% value can be assumed.\n",
    "4. The fourth assumption is a reasonably large sample size is used. A larger sample size means the distribution of results should approach a normal bell-shaped curve.\n",
    "5.The final assumption is homogeneity of variance. Homogeneous, or equal, variance exists when the standard deviations of samples are approximately equal. "
   ]
  },
  {
   "cell_type": "code",
   "execution_count": 430,
   "metadata": {},
   "outputs": [
    {
     "data": {
      "text/plain": [
       "Enterprise (ARR)    int64\n",
       "Majors (ARR)        int64\n",
       "dtype: object"
      ]
     },
     "execution_count": 430,
     "metadata": {},
     "output_type": "execute_result"
    }
   ],
   "source": [
    "enterprise_majors_arr.dtypes"
   ]
  },
  {
   "cell_type": "code",
   "execution_count": 429,
   "metadata": {},
   "outputs": [
    {
     "data": {
      "text/plain": [
       "array([[<AxesSubplot:title={'center':'Enterprise (ARR)'}>,\n",
       "        <AxesSubplot:title={'center':'Majors (ARR)'}>]], dtype=object)"
      ]
     },
     "execution_count": 429,
     "metadata": {},
     "output_type": "execute_result"
    },
    {
     "data": {
      "image/png": "[encoded data removed]",
      "text/plain": [
       "<Figure size 864x360 with 2 Axes>"
      ]
     },
     "metadata": {
      "needs_background": "light"
     },
     "output_type": "display_data"
    }
   ],
   "source": [
    "enterprise_majors_arr.hist(figsize=(12,5))"
   ]
  },
  {
   "cell_type": "markdown",
   "metadata": {},
   "source": [
    "# **Dependent Samples T-test**"
   ]
  },
  {
   "cell_type": "markdown",
   "metadata": {},
   "source": [
    "## **Problem Statement**\n",
    "\n",
    "Sales Leaders noticed that Enterprise++ Reps have low Attaintment Rates for Q1-Q2 of FY 20 - it's around ~55%. The leadership immediately addressed this issue by coming up with a New Sales Framework (with the help of Sales and Marketing Teams) that'll be used in Q1-Q2 of FY 21 with the goal of increasing attainment rates of Enterprise++ Reps. At the end of Q1-Q2 of FY 21 the **Attainment Rates of Enterprise++ Reps increased to ~60%**. This is definitely a good news - however you want to see if this increase was attributed to the new Sales Framework to see if Enterprise++ Reps can continue using this Sales Framework. So you asked one of your Analyst to do some statistical test to confirm/reject the effectiveness of this New Sales Framework."
   ]
  },
  {
   "cell_type": "markdown",
   "metadata": {},
   "source": [
    "### **Dataset**\n",
    "\n",
    "We'll be using dummy samples that contain 25 Attainment Rates of Enterprise++ Reps"
   ]
  },
  {
   "cell_type": "markdown",
   "metadata": {},
   "source": [
    "### **Hypothesis Testing**\n",
    "\n",
    "<i>**H0 (Null Hypothesis):** μ-fy21 - μ-fy20 = 0</i><br>\n",
    "<i>**H1 (Alternative Hypothesis):** μ-fy21 - μ-fy20 > 0</i><br>\n",
    "<i>**H0 ([Business Perspective]):** The increase in Attainment Rates is due to chance</i><br>\n",
    "<i>**H1 ([Business Perspective]):** The increase in Attainment Rates is attributed to the New Sales Framework</i><br>\n",
    "<i>**t:** t-statistic</i><br>\n",
    "<i>**SE:** Standard Error</i>"
   ]
  },
  {
   "cell_type": "markdown",
   "metadata": {},
   "source": [
    "$$t = \\frac{(μ_{fy21} -  μ_{fy20})} {SE(!)} $$ <br>\n",
    "$$SE(!) = \\frac{STDDEV(μ_{fy21} -  μ_{fy20})} {\\sqrt n}$$\n",
    "\n"
   ]
  },
  {
   "cell_type": "markdown",
   "metadata": {},
   "source": [
    "### **Action**\n",
    "\n",
    "Proceed with a One-Tail (positive) Dependent Samples T-test to see if there's statistical evidence that the Higher Attainment Rates for Q1-Q2 FY 21 is a result of using The new Sales Framework. Use **α = 0.05**<br>"
   ]
  },
  {
   "cell_type": "code",
   "execution_count": 291,
   "metadata": {},
   "outputs": [],
   "source": [
    "from scipy.stats import ttest_rel\n",
    "from scipy.stats import t"
   ]
  },
  {
   "cell_type": "code",
   "execution_count": 292,
   "metadata": {},
   "outputs": [],
   "source": [
    "quota_completions = pd.read_excel('datasets/Enterpise_Quota_Completion.xlsx')"
   ]
  },
  {
   "cell_type": "code",
   "execution_count": 293,
   "metadata": {},
   "outputs": [
    {
     "data": {
      "text/html": [
       "<div>\n",
       "<style scoped>\n",
       "    .dataframe tbody tr th:only-of-type {\n",
       "        vertical-align: middle;\n",
       "    }\n",
       "\n",
       "    .dataframe tbody tr th {\n",
       "        vertical-align: top;\n",
       "    }\n",
       "\n",
       "    .dataframe thead th {\n",
       "        text-align: right;\n",
       "    }\n",
       "</style>\n",
       "<table border=\"1\" class=\"dataframe\">\n",
       "  <thead>\n",
       "    <tr style=\"text-align: right;\">\n",
       "      <th></th>\n",
       "      <th>Rep</th>\n",
       "      <th>Attainment Rate (Q1-Q2 '20)</th>\n",
       "      <th>Attainment Rate (Q1-Q2 '21)</th>\n",
       "    </tr>\n",
       "  </thead>\n",
       "  <tbody>\n",
       "    <tr>\n",
       "      <th>0</th>\n",
       "      <td>Enterprise++ Rep 1</td>\n",
       "      <td>0.9709</td>\n",
       "      <td>1.0000</td>\n",
       "    </tr>\n",
       "    <tr>\n",
       "      <th>1</th>\n",
       "      <td>Enterprise++ Rep 2</td>\n",
       "      <td>0.2966</td>\n",
       "      <td>0.1099</td>\n",
       "    </tr>\n",
       "    <tr>\n",
       "      <th>2</th>\n",
       "      <td>Enterprise++ Rep 3</td>\n",
       "      <td>0.3565</td>\n",
       "      <td>0.8262</td>\n",
       "    </tr>\n",
       "    <tr>\n",
       "      <th>3</th>\n",
       "      <td>Enterprise++ Rep 4</td>\n",
       "      <td>0.0000</td>\n",
       "      <td>0.9250</td>\n",
       "    </tr>\n",
       "    <tr>\n",
       "      <th>4</th>\n",
       "      <td>Enterprise++ Rep 5</td>\n",
       "      <td>0.6003</td>\n",
       "      <td>0.7701</td>\n",
       "    </tr>\n",
       "  </tbody>\n",
       "</table>\n",
       "</div>"
      ],
      "text/plain": [
       "                  Rep  Attainment Rate (Q1-Q2 '20)  \\\n",
       "0  Enterprise++ Rep 1                       0.9709   \n",
       "1  Enterprise++ Rep 2                       0.2966   \n",
       "2  Enterprise++ Rep 3                       0.3565   \n",
       "3  Enterprise++ Rep 4                       0.0000   \n",
       "4  Enterprise++ Rep 5                       0.6003   \n",
       "\n",
       "   Attainment Rate (Q1-Q2 '21)  \n",
       "0                       1.0000  \n",
       "1                       0.1099  \n",
       "2                       0.8262  \n",
       "3                       0.9250  \n",
       "4                       0.7701  "
      ]
     },
     "execution_count": 293,
     "metadata": {},
     "output_type": "execute_result"
    }
   ],
   "source": [
    "quota_completions.head()"
   ]
  },
  {
   "cell_type": "code",
   "execution_count": 202,
   "metadata": {},
   "outputs": [
    {
     "data": {
      "text/plain": [
       "Rep                            1.0\n",
       "Attainment Rate (Q1-Q2 '20)    1.0\n",
       "Attainment Rate (Q1-Q2 '21)    1.0\n",
       "dtype: float64"
      ]
     },
     "execution_count": 202,
     "metadata": {},
     "output_type": "execute_result"
    }
   ],
   "source": [
    "# Check the fill rate - no missing values\n",
    "\n",
    "quota_completions.notna().mean()"
   ]
  },
  {
   "cell_type": "code",
   "execution_count": 203,
   "metadata": {},
   "outputs": [
    {
     "data": {
      "text/plain": [
       "(25, 3)"
      ]
     },
     "execution_count": 203,
     "metadata": {},
     "output_type": "execute_result"
    }
   ],
   "source": [
    "quota_completions.shape"
   ]
  },
  {
   "cell_type": "code",
   "execution_count": 204,
   "metadata": {},
   "outputs": [
    {
     "data": {
      "text/html": [
       "<div>\n",
       "<style scoped>\n",
       "    .dataframe tbody tr th:only-of-type {\n",
       "        vertical-align: middle;\n",
       "    }\n",
       "\n",
       "    .dataframe tbody tr th {\n",
       "        vertical-align: top;\n",
       "    }\n",
       "\n",
       "    .dataframe thead th {\n",
       "        text-align: right;\n",
       "    }\n",
       "</style>\n",
       "<table border=\"1\" class=\"dataframe\">\n",
       "  <thead>\n",
       "    <tr style=\"text-align: right;\">\n",
       "      <th></th>\n",
       "      <th>Attainment Rate (Q1-Q2 '20)</th>\n",
       "      <th>Attainment Rate (Q1-Q2 '21)</th>\n",
       "    </tr>\n",
       "  </thead>\n",
       "  <tbody>\n",
       "    <tr>\n",
       "      <th>count</th>\n",
       "      <td>25.000000</td>\n",
       "      <td>25.000000</td>\n",
       "    </tr>\n",
       "    <tr>\n",
       "      <th>mean</th>\n",
       "      <td>0.547488</td>\n",
       "      <td>0.601792</td>\n",
       "    </tr>\n",
       "    <tr>\n",
       "      <th>std</th>\n",
       "      <td>0.269544</td>\n",
       "      <td>0.267028</td>\n",
       "    </tr>\n",
       "    <tr>\n",
       "      <th>min</th>\n",
       "      <td>0.000000</td>\n",
       "      <td>0.000000</td>\n",
       "    </tr>\n",
       "    <tr>\n",
       "      <th>25%</th>\n",
       "      <td>0.342800</td>\n",
       "      <td>0.446500</td>\n",
       "    </tr>\n",
       "    <tr>\n",
       "      <th>50%</th>\n",
       "      <td>0.544700</td>\n",
       "      <td>0.594600</td>\n",
       "    </tr>\n",
       "    <tr>\n",
       "      <th>75%</th>\n",
       "      <td>0.692500</td>\n",
       "      <td>0.826200</td>\n",
       "    </tr>\n",
       "    <tr>\n",
       "      <th>max</th>\n",
       "      <td>1.000000</td>\n",
       "      <td>1.000000</td>\n",
       "    </tr>\n",
       "  </tbody>\n",
       "</table>\n",
       "</div>"
      ],
      "text/plain": [
       "       Attainment Rate (Q1-Q2 '20)  Attainment Rate (Q1-Q2 '21)\n",
       "count                    25.000000                    25.000000\n",
       "mean                      0.547488                     0.601792\n",
       "std                       0.269544                     0.267028\n",
       "min                       0.000000                     0.000000\n",
       "25%                       0.342800                     0.446500\n",
       "50%                       0.544700                     0.594600\n",
       "75%                       0.692500                     0.826200\n",
       "max                       1.000000                     1.000000"
      ]
     },
     "execution_count": 204,
     "metadata": {},
     "output_type": "execute_result"
    }
   ],
   "source": [
    "quota_completions.describe()"
   ]
  },
  {
   "cell_type": "markdown",
   "metadata": {},
   "source": [
    "- There are 25 Reps involved in this exercise \n",
    "- The Avg Attainment Rate for FY 21 is slightly higher than the Avg Attainment Rate for FY 20  \n",
    "- The std_dev for Attainment Rates for FY 20 & 21 are almost the same"
   ]
  },
  {
   "cell_type": "code",
   "execution_count": 294,
   "metadata": {},
   "outputs": [
    {
     "data": {
      "text/plain": [
       "array([[<AxesSubplot:title={'center':\"Attainment Rate (Q1-Q2 '20)\"}>,\n",
       "        <AxesSubplot:title={'center':\"Attainment Rate (Q1-Q2 '21)\"}>]],\n",
       "      dtype=object)"
      ]
     },
     "execution_count": 294,
     "metadata": {},
     "output_type": "execute_result"
    },
    {
     "data": {
      "image/png": "[encoded data removed]",
      "text/plain": [
       "<Figure size 864x360 with 2 Axes>"
      ]
     },
     "metadata": {
      "needs_background": "light"
     },
     "output_type": "display_data"
    }
   ],
   "source": [
    "# Check sample normality - samples are approximately normal\n",
    "quota_completions.hist(figsize=(12,5))"
   ]
  },
  {
   "cell_type": "code",
   "execution_count": 295,
   "metadata": {},
   "outputs": [],
   "source": [
    "avg_attainment_20 = quota_completions[\"Attainment Rate (Q1-Q2 '20)\"].mean()\n",
    "avg_attainment_21 = quota_completions[\"Attainment Rate (Q1-Q2 '21)\"].mean()\n",
    "n = 25"
   ]
  },
  {
   "cell_type": "code",
   "execution_count": 296,
   "metadata": {},
   "outputs": [
    {
     "name": "stdout",
     "output_type": "stream",
     "text": [
      "t-statistic (by-hand) = 0.7393333763364279\n"
     ]
    }
   ],
   "source": [
    "avg_attainment_diff = avg_attainment_21 - avg_attainment_20\n",
    "se = statistics.stdev((quota_completions[\"Attainment Rate (Q1-Q2 '21)\"]\n",
    "                      -  quota_completions[\"Attainment Rate (Q1-Q2 '20)\"])) / np.sqrt(n)\n",
    "\n",
    "\n",
    "t_statistic = avg_attainment_diff / se\n",
    "\n",
    "print(f't-statistic (by-hand) = {t_statistic}')"
   ]
  },
  {
   "cell_type": "code",
   "execution_count": 297,
   "metadata": {},
   "outputs": [
    {
     "name": "stdout",
     "output_type": "stream",
     "text": [
      "t-statistic (scipy) = 0.7393333763364276\n"
     ]
    }
   ],
   "source": [
    "# Check if by-hand t-statistic is the same to the Scipy Implementation\n",
    "\n",
    "t_statistic_scipy = ttest_rel(quota_completions[\"Attainment Rate (Q1-Q2 '21)\"],\n",
    "                              quota_completions[\"Attainment Rate (Q1-Q2 '20)\"],\n",
    "                              alternative='greater')\n",
    "                              \n",
    "print(f't-statistic (scipy) = {t_statistic_scipy.statistic}')"
   ]
  },
  {
   "cell_type": "code",
   "execution_count": 299,
   "metadata": {},
   "outputs": [
    {
     "name": "stdout",
     "output_type": "stream",
     "text": [
      "t-critical (scipy) = 1.7108820799094275\n"
     ]
    }
   ],
   "source": [
    "# t_critical threshold for α = 0.05\n",
    "t_critical = t.ppf(1-0.05, df=n-1)\n",
    "print(f't-critical (scipy) = {t_critical}')"
   ]
  },
  {
   "cell_type": "markdown",
   "metadata": {},
   "source": [
    "### **Conclusion**\n",
    "\n",
    "Since 0.7393 < 1.71 it suggests that we fail to reject the Null Hypothesis. Which indicates that there statistical evidence that the increase in Attainment Rates is due to chance and not because of the New Sales Framework. It's advised not to continue using this new Sales Framework in it's current state, maybe we can tweak the Sales Framework then do another round of A/B testing."
   ]
  },
  {
   "cell_type": "code",
   "execution_count": null,
   "metadata": {},
   "outputs": [],
   "source": [
    "scipy.stats.t.ppf(q, df)"
   ]
  },
  {
   "cell_type": "code",
   "execution_count": 285,
   "metadata": {},
   "outputs": [],
   "source": []
  },
  {
   "cell_type": "code",
   "execution_count": 250,
   "metadata": {},
   "outputs": [
    {
     "data": {
      "text/plain": [
       "0.07344995064214362"
      ]
     },
     "execution_count": 250,
     "metadata": {},
     "output_type": "execute_result"
    }
   ],
   "source": [
    "se"
   ]
  },
  {
   "cell_type": "code",
   "execution_count": 251,
   "metadata": {},
   "outputs": [
    {
     "data": {
      "text/plain": [
       "0.7393333763364279"
      ]
     },
     "execution_count": 251,
     "metadata": {},
     "output_type": "execute_result"
    }
   ],
   "source": [
    "avg_attainment_diff  / se"
   ]
  },
  {
   "cell_type": "code",
   "execution_count": 211,
   "metadata": {},
   "outputs": [
    {
     "data": {
      "text/plain": [
       "Ttest_relResult(statistic=0.7393333763364276, pvalue=0.23343744068318512)"
      ]
     },
     "execution_count": 211,
     "metadata": {},
     "output_type": "execute_result"
    }
   ],
   "source": []
  },
  {
   "cell_type": "code",
   "execution_count": null,
   "metadata": {},
   "outputs": [],
   "source": []
  },
  {
   "cell_type": "code",
   "execution_count": 208,
   "metadata": {},
   "outputs": [],
   "source": [
    "# np.random.seed(0)\n",
    "# linearity1 = np.random.standard_t(24, 25)\n",
    "# np.random.seed(1)\n",
    "# linearity2 = np.random.standard_t(24, 25)\n",
    "\n",
    "# # import matplotlib.pyplot as plt\n",
    "# import pandas as pd\n",
    "\n",
    "# linearity1 = pd.DataFrame(linearity1)\n",
    "# linearity2 = pd.DataFrame(linearity2)\n",
    "\n",
    "# min_max = MinMaxScaler()\n",
    "\n",
    "# linearity1[1] = min_max.fit_transform(linearity1[0].values.reshape(-1,1))\n",
    "# linearity2[1] = min_max.fit_transform(linearity2[0].values.reshape(-1,1))\n",
    "\n",
    "# linearity1[1] = linearity1[1].apply(lambda x:round(x, 4))\n",
    "# linearity2[1] = linearity2[1].apply(lambda x:round(x, 4))"
   ]
  },
  {
   "cell_type": "markdown",
   "metadata": {},
   "source": [
    "### **Dataset**\n",
    "\n",
    "We'll be using a dummy samples that contain 100 ARRs of unique Accounts for each Segment (Enterprise & Majors)"
   ]
  },
  {
   "cell_type": "markdown",
   "metadata": {},
   "source": [
    "### **Hypothesis Testing**\n",
    "\n",
    "<i>**H0 (Null Hypothesis):** μ-Enterpise <= μ-Majors</i><br>\n",
    "<i>**H1 (Alternative Hypothesis):** μ-Enterpise > μ-Majors</i><br>\n",
    "<i>**t:** t-statistic</i><br>\n",
    "<i>**SE:** Standard Error</i>"
   ]
  },
  {
   "cell_type": "markdown",
   "metadata": {},
   "source": [
    "$$t = \\frac{(μ_{Enterpise} -  μ_{Majors})} {SE(!) * \\sqrt n} $$ <br>\n",
    "$$SE(!) = \\sqrt {SE_{Enterprise}^2 + SE_{Majors}^2} $$\n",
    "\n"
   ]
  },
  {
   "cell_type": "markdown",
   "metadata": {},
   "source": [
    "### **Action**\n",
    "\n",
    "Proceed with a one-tail Independent Samples T-test to see if there's statistical evidence that the higher Enterprise Mean ARR isn't purely by chance. Use **α = 0.05**<br>"
   ]
  },
  {
   "cell_type": "code",
   "execution_count": 168,
   "metadata": {},
   "outputs": [
    {
     "data": {
      "text/plain": [
       "array([[<AxesSubplot:title={'center':'0'}>,\n",
       "        <AxesSubplot:title={'center':'1'}>]], dtype=object)"
      ]
     },
     "execution_count": 168,
     "metadata": {},
     "output_type": "execute_result"
    },
    {
     "data": {
      "image/png": "[encoded data removed]",
      "text/plain": [
       "<Figure size 720x288 with 2 Axes>"
      ]
     },
     "metadata": {
      "needs_background": "light"
     },
     "output_type": "display_data"
    }
   ],
   "source": [
    "linearity1.hist(figsize=(10,4))"
   ]
  },
  {
   "cell_type": "code",
   "execution_count": 169,
   "metadata": {},
   "outputs": [
    {
     "data": {
      "text/plain": [
       "array([[<AxesSubplot:title={'center':'0'}>,\n",
       "        <AxesSubplot:title={'center':'1'}>]], dtype=object)"
      ]
     },
     "execution_count": 169,
     "metadata": {},
     "output_type": "execute_result"
    },
    {
     "data": {
      "image/png": "[encoded data removed]",
      "text/plain": [
       "<Figure size 720x288 with 2 Axes>"
      ]
     },
     "metadata": {
      "needs_background": "light"
     },
     "output_type": "display_data"
    }
   ],
   "source": [
    "linearity2.hist(figsize=(10,4))"
   ]
  },
  {
   "cell_type": "code",
   "execution_count": 147,
   "metadata": {},
   "outputs": [
    {
     "data": {
      "text/html": [
       "<div>\n",
       "<style scoped>\n",
       "    .dataframe tbody tr th:only-of-type {\n",
       "        vertical-align: middle;\n",
       "    }\n",
       "\n",
       "    .dataframe tbody tr th {\n",
       "        vertical-align: top;\n",
       "    }\n",
       "\n",
       "    .dataframe thead th {\n",
       "        text-align: right;\n",
       "    }\n",
       "</style>\n",
       "<table border=\"1\" class=\"dataframe\">\n",
       "  <thead>\n",
       "    <tr style=\"text-align: right;\">\n",
       "      <th></th>\n",
       "      <th>0</th>\n",
       "      <th>1</th>\n",
       "    </tr>\n",
       "  </thead>\n",
       "  <tbody>\n",
       "    <tr>\n",
       "      <th>count</th>\n",
       "      <td>25.000000</td>\n",
       "      <td>25.000000</td>\n",
       "    </tr>\n",
       "    <tr>\n",
       "      <th>mean</th>\n",
       "      <td>0.126013</td>\n",
       "      <td>0.547488</td>\n",
       "    </tr>\n",
       "    <tr>\n",
       "      <th>std</th>\n",
       "      <td>1.070043</td>\n",
       "      <td>0.269544</td>\n",
       "    </tr>\n",
       "    <tr>\n",
       "      <th>min</th>\n",
       "      <td>-2.047454</td>\n",
       "      <td>0.000000</td>\n",
       "    </tr>\n",
       "    <tr>\n",
       "      <th>25%</th>\n",
       "      <td>-0.686480</td>\n",
       "      <td>0.342800</td>\n",
       "    </tr>\n",
       "    <tr>\n",
       "      <th>50%</th>\n",
       "      <td>0.114925</td>\n",
       "      <td>0.544700</td>\n",
       "    </tr>\n",
       "    <tr>\n",
       "      <th>75%</th>\n",
       "      <td>0.701672</td>\n",
       "      <td>0.692500</td>\n",
       "    </tr>\n",
       "    <tr>\n",
       "      <th>max</th>\n",
       "      <td>1.922420</td>\n",
       "      <td>1.000000</td>\n",
       "    </tr>\n",
       "  </tbody>\n",
       "</table>\n",
       "</div>"
      ],
      "text/plain": [
       "               0          1\n",
       "count  25.000000  25.000000\n",
       "mean    0.126013   0.547488\n",
       "std     1.070043   0.269544\n",
       "min    -2.047454   0.000000\n",
       "25%    -0.686480   0.342800\n",
       "50%     0.114925   0.544700\n",
       "75%     0.701672   0.692500\n",
       "max     1.922420   1.000000"
      ]
     },
     "execution_count": 147,
     "metadata": {},
     "output_type": "execute_result"
    }
   ],
   "source": [
    "linearity2.describe()"
   ]
  },
  {
   "cell_type": "code",
   "execution_count": 148,
   "metadata": {},
   "outputs": [
    {
     "data": {
      "text/html": [
       "<div>\n",
       "<style scoped>\n",
       "    .dataframe tbody tr th:only-of-type {\n",
       "        vertical-align: middle;\n",
       "    }\n",
       "\n",
       "    .dataframe tbody tr th {\n",
       "        vertical-align: top;\n",
       "    }\n",
       "\n",
       "    .dataframe thead th {\n",
       "        text-align: right;\n",
       "    }\n",
       "</style>\n",
       "<table border=\"1\" class=\"dataframe\">\n",
       "  <thead>\n",
       "    <tr style=\"text-align: right;\">\n",
       "      <th></th>\n",
       "      <th>0</th>\n",
       "      <th>1</th>\n",
       "    </tr>\n",
       "  </thead>\n",
       "  <tbody>\n",
       "    <tr>\n",
       "      <th>count</th>\n",
       "      <td>25.000000</td>\n",
       "      <td>25.000000</td>\n",
       "    </tr>\n",
       "    <tr>\n",
       "      <th>mean</th>\n",
       "      <td>0.076800</td>\n",
       "      <td>0.601792</td>\n",
       "    </tr>\n",
       "    <tr>\n",
       "      <th>std</th>\n",
       "      <td>1.081177</td>\n",
       "      <td>0.267028</td>\n",
       "    </tr>\n",
       "    <tr>\n",
       "      <th>min</th>\n",
       "      <td>-2.359851</td>\n",
       "      <td>0.000000</td>\n",
       "    </tr>\n",
       "    <tr>\n",
       "      <th>25%</th>\n",
       "      <td>-0.551892</td>\n",
       "      <td>0.446500</td>\n",
       "    </tr>\n",
       "    <tr>\n",
       "      <th>50%</th>\n",
       "      <td>0.047709</td>\n",
       "      <td>0.594600</td>\n",
       "    </tr>\n",
       "    <tr>\n",
       "      <th>75%</th>\n",
       "      <td>0.985316</td>\n",
       "      <td>0.826200</td>\n",
       "    </tr>\n",
       "    <tr>\n",
       "      <th>max</th>\n",
       "      <td>1.689169</td>\n",
       "      <td>1.000000</td>\n",
       "    </tr>\n",
       "  </tbody>\n",
       "</table>\n",
       "</div>"
      ],
      "text/plain": [
       "               0          1\n",
       "count  25.000000  25.000000\n",
       "mean    0.076800   0.601792\n",
       "std     1.081177   0.267028\n",
       "min    -2.359851   0.000000\n",
       "25%    -0.551892   0.446500\n",
       "50%     0.047709   0.594600\n",
       "75%     0.985316   0.826200\n",
       "max     1.689169   1.000000"
      ]
     },
     "execution_count": 148,
     "metadata": {},
     "output_type": "execute_result"
    }
   ],
   "source": [
    "linearity1.describe()"
   ]
  },
  {
   "cell_type": "code",
   "execution_count": 164,
   "metadata": {},
   "outputs": [],
   "source": [
    "pd.DataFrame({\"Rep\" : ['Enterprise++ Rep ' + str(i) for i in range(1, 26)],\n",
    "              \"Quota Completion (Q1-Q2 '20)\": linearity2[1].values,\n",
    "              \"Quota Completion (Q1-Q2 '21)\": linearity1[1].values}).to_excel('datasets/Enterpise_Quota_Completion.xlsx', index=False)"
   ]
  },
  {
   "cell_type": "code",
   "execution_count": 170,
   "metadata": {},
   "outputs": [],
   "source": []
  },
  {
   "cell_type": "code",
   "execution_count": 171,
   "metadata": {},
   "outputs": [
    {
     "data": {
      "text/html": [
       "<div>\n",
       "<style scoped>\n",
       "    .dataframe tbody tr th:only-of-type {\n",
       "        vertical-align: middle;\n",
       "    }\n",
       "\n",
       "    .dataframe tbody tr th {\n",
       "        vertical-align: top;\n",
       "    }\n",
       "\n",
       "    .dataframe thead th {\n",
       "        text-align: right;\n",
       "    }\n",
       "</style>\n",
       "<table border=\"1\" class=\"dataframe\">\n",
       "  <thead>\n",
       "    <tr style=\"text-align: right;\">\n",
       "      <th></th>\n",
       "      <th>Rep</th>\n",
       "      <th>Quota Completion (Q1-Q2 '20)</th>\n",
       "      <th>Quota Completion (Q1-Q2 '21)</th>\n",
       "    </tr>\n",
       "  </thead>\n",
       "  <tbody>\n",
       "    <tr>\n",
       "      <th>0</th>\n",
       "      <td>Enterprise++ Rep 1</td>\n",
       "      <td>0.9709</td>\n",
       "      <td>1.0000</td>\n",
       "    </tr>\n",
       "    <tr>\n",
       "      <th>1</th>\n",
       "      <td>Enterprise++ Rep 2</td>\n",
       "      <td>0.2966</td>\n",
       "      <td>0.1099</td>\n",
       "    </tr>\n",
       "    <tr>\n",
       "      <th>2</th>\n",
       "      <td>Enterprise++ Rep 3</td>\n",
       "      <td>0.3565</td>\n",
       "      <td>0.8262</td>\n",
       "    </tr>\n",
       "    <tr>\n",
       "      <th>3</th>\n",
       "      <td>Enterprise++ Rep 4</td>\n",
       "      <td>0.0000</td>\n",
       "      <td>0.9250</td>\n",
       "    </tr>\n",
       "    <tr>\n",
       "      <th>4</th>\n",
       "      <td>Enterprise++ Rep 5</td>\n",
       "      <td>0.6003</td>\n",
       "      <td>0.7701</td>\n",
       "    </tr>\n",
       "    <tr>\n",
       "      <th>5</th>\n",
       "      <td>Enterprise++ Rep 6</td>\n",
       "      <td>0.3428</td>\n",
       "      <td>0.6945</td>\n",
       "    </tr>\n",
       "    <tr>\n",
       "      <th>6</th>\n",
       "      <td>Enterprise++ Rep 7</td>\n",
       "      <td>0.4285</td>\n",
       "      <td>0.9686</td>\n",
       "    </tr>\n",
       "    <tr>\n",
       "      <th>7</th>\n",
       "      <td>Enterprise++ Rep 8</td>\n",
       "      <td>0.6925</td>\n",
       "      <td>0.3549</td>\n",
       "    </tr>\n",
       "    <tr>\n",
       "      <th>8</th>\n",
       "      <td>Enterprise++ Rep 9</td>\n",
       "      <td>0.4654</td>\n",
       "      <td>0.0000</td>\n",
       "    </tr>\n",
       "    <tr>\n",
       "      <th>9</th>\n",
       "      <td>Enterprise++ Rep 10</td>\n",
       "      <td>0.9819</td>\n",
       "      <td>0.5335</td>\n",
       "    </tr>\n",
       "    <tr>\n",
       "      <th>10</th>\n",
       "      <td>Enterprise++ Rep 11</td>\n",
       "      <td>0.7301</td>\n",
       "      <td>0.5946</td>\n",
       "    </tr>\n",
       "    <tr>\n",
       "      <th>11</th>\n",
       "      <td>Enterprise++ Rep 12</td>\n",
       "      <td>0.3259</td>\n",
       "      <td>0.7217</td>\n",
       "    </tr>\n",
       "    <tr>\n",
       "      <th>12</th>\n",
       "      <td>Enterprise++ Rep 13</td>\n",
       "      <td>0.4795</td>\n",
       "      <td>0.2759</td>\n",
       "    </tr>\n",
       "    <tr>\n",
       "      <th>13</th>\n",
       "      <td>Enterprise++ Rep 14</td>\n",
       "      <td>0.2059</td>\n",
       "      <td>0.6299</td>\n",
       "    </tr>\n",
       "    <tr>\n",
       "      <th>14</th>\n",
       "      <td>Enterprise++ Rep 15</td>\n",
       "      <td>0.3160</td>\n",
       "      <td>0.4813</td>\n",
       "    </tr>\n",
       "    <tr>\n",
       "      <th>15</th>\n",
       "      <td>Enterprise++ Rep 16</td>\n",
       "      <td>0.5447</td>\n",
       "      <td>0.9241</td>\n",
       "    </tr>\n",
       "    <tr>\n",
       "      <th>16</th>\n",
       "      <td>Enterprise++ Rep 17</td>\n",
       "      <td>0.8976</td>\n",
       "      <td>0.4465</td>\n",
       "    </tr>\n",
       "    <tr>\n",
       "      <th>17</th>\n",
       "      <td>Enterprise++ Rep 18</td>\n",
       "      <td>1.0000</td>\n",
       "      <td>0.5091</td>\n",
       "    </tr>\n",
       "    <tr>\n",
       "      <th>18</th>\n",
       "      <td>Enterprise++ Rep 19</td>\n",
       "      <td>0.5300</td>\n",
       "      <td>0.3707</td>\n",
       "    </tr>\n",
       "    <tr>\n",
       "      <th>19</th>\n",
       "      <td>Enterprise++ Rep 20</td>\n",
       "      <td>0.6897</td>\n",
       "      <td>0.8832</td>\n",
       "    </tr>\n",
       "    <tr>\n",
       "      <th>20</th>\n",
       "      <td>Enterprise++ Rep 21</td>\n",
       "      <td>0.5966</td>\n",
       "      <td>0.5762</td>\n",
       "    </tr>\n",
       "    <tr>\n",
       "      <th>21</th>\n",
       "      <td>Enterprise++ Rep 22</td>\n",
       "      <td>0.8736</td>\n",
       "      <td>0.9201</td>\n",
       "    </tr>\n",
       "    <tr>\n",
       "      <th>22</th>\n",
       "      <td>Enterprise++ Rep 23</td>\n",
       "      <td>0.5802</td>\n",
       "      <td>0.4151</td>\n",
       "    </tr>\n",
       "    <tr>\n",
       "      <th>23</th>\n",
       "      <td>Enterprise++ Rep 24</td>\n",
       "      <td>0.1401</td>\n",
       "      <td>0.4837</td>\n",
       "    </tr>\n",
       "    <tr>\n",
       "      <th>24</th>\n",
       "      <td>Enterprise++ Rep 25</td>\n",
       "      <td>0.6419</td>\n",
       "      <td>0.6300</td>\n",
       "    </tr>\n",
       "  </tbody>\n",
       "</table>\n",
       "</div>"
      ],
      "text/plain": [
       "                    Rep  Quota Completion (Q1-Q2 '20)  \\\n",
       "0    Enterprise++ Rep 1                        0.9709   \n",
       "1    Enterprise++ Rep 2                        0.2966   \n",
       "2    Enterprise++ Rep 3                        0.3565   \n",
       "3    Enterprise++ Rep 4                        0.0000   \n",
       "4    Enterprise++ Rep 5                        0.6003   \n",
       "5    Enterprise++ Rep 6                        0.3428   \n",
       "6    Enterprise++ Rep 7                        0.4285   \n",
       "7    Enterprise++ Rep 8                        0.6925   \n",
       "8    Enterprise++ Rep 9                        0.4654   \n",
       "9   Enterprise++ Rep 10                        0.9819   \n",
       "10  Enterprise++ Rep 11                        0.7301   \n",
       "11  Enterprise++ Rep 12                        0.3259   \n",
       "12  Enterprise++ Rep 13                        0.4795   \n",
       "13  Enterprise++ Rep 14                        0.2059   \n",
       "14  Enterprise++ Rep 15                        0.3160   \n",
       "15  Enterprise++ Rep 16                        0.5447   \n",
       "16  Enterprise++ Rep 17                        0.8976   \n",
       "17  Enterprise++ Rep 18                        1.0000   \n",
       "18  Enterprise++ Rep 19                        0.5300   \n",
       "19  Enterprise++ Rep 20                        0.6897   \n",
       "20  Enterprise++ Rep 21                        0.5966   \n",
       "21  Enterprise++ Rep 22                        0.8736   \n",
       "22  Enterprise++ Rep 23                        0.5802   \n",
       "23  Enterprise++ Rep 24                        0.1401   \n",
       "24  Enterprise++ Rep 25                        0.6419   \n",
       "\n",
       "    Quota Completion (Q1-Q2 '21)  \n",
       "0                         1.0000  \n",
       "1                         0.1099  \n",
       "2                         0.8262  \n",
       "3                         0.9250  \n",
       "4                         0.7701  \n",
       "5                         0.6945  \n",
       "6                         0.9686  \n",
       "7                         0.3549  \n",
       "8                         0.0000  \n",
       "9                         0.5335  \n",
       "10                        0.5946  \n",
       "11                        0.7217  \n",
       "12                        0.2759  \n",
       "13                        0.6299  \n",
       "14                        0.4813  \n",
       "15                        0.9241  \n",
       "16                        0.4465  \n",
       "17                        0.5091  \n",
       "18                        0.3707  \n",
       "19                        0.8832  \n",
       "20                        0.5762  \n",
       "21                        0.9201  \n",
       "22                        0.4151  \n",
       "23                        0.4837  \n",
       "24                        0.6300  "
      ]
     },
     "execution_count": 171,
     "metadata": {},
     "output_type": "execute_result"
    }
   ],
   "source": [
    "quota_completions"
   ]
  },
  {
   "cell_type": "code",
   "execution_count": 105,
   "metadata": {},
   "outputs": [],
   "source": [
    "from scipy.stats import ttest_rel"
   ]
  },
  {
   "cell_type": "code",
   "execution_count": 115,
   "metadata": {},
   "outputs": [
    {
     "data": {
      "text/plain": [
       "Ttest_relResult(statistic=0.7259634982795125, pvalue=0.2374409040975256)"
      ]
     },
     "execution_count": 115,
     "metadata": {},
     "output_type": "execute_result"
    }
   ],
   "source": [
    "# Post Test, Pre Test\n",
    "ttest_rel(linearity1[1],\n",
    "          linearity2[1],\n",
    "          alternative='greater')"
   ]
  },
  {
   "cell_type": "code",
   "execution_count": 103,
   "metadata": {},
   "outputs": [],
   "source": [
    "# linearity1\n",
    "# linearity2"
   ]
  },
  {
   "cell_type": "code",
   "execution_count": 31,
   "metadata": {},
   "outputs": [],
   "source": []
  },
  {
   "cell_type": "code",
   "execution_count": 40,
   "metadata": {},
   "outputs": [
    {
     "data": {
      "text/plain": [
       "<AxesSubplot:>"
      ]
     },
     "execution_count": 40,
     "metadata": {},
     "output_type": "execute_result"
    },
    {
     "data": {
      "image/png": "[encoded data removed]",
      "text/plain": [
       "<Figure size 432x288 with 1 Axes>"
      ]
     },
     "metadata": {
      "needs_background": "light"
     },
     "output_type": "display_data"
    }
   ],
   "source": [
    "pd.DataFrame(min_max.fit_transform(pd.DataFrame(linearity2)[0].values.reshape(-1,1)).flatten())[0].hist()"
   ]
  },
  {
   "cell_type": "code",
   "execution_count": 29,
   "metadata": {},
   "outputs": [
    {
     "data": {
      "text/plain": [
       "<AxesSubplot:>"
      ]
     },
     "execution_count": 29,
     "metadata": {},
     "output_type": "execute_result"
    },
    {
     "data": {
      "image/png": "[encoded data removed]",
      "text/plain": [
       "<Figure size 432x288 with 1 Axes>"
      ]
     },
     "metadata": {
      "needs_background": "light"
     },
     "output_type": "display_data"
    }
   ],
   "source": [
    "pd.DataFrame(linearity2)[0].hist()\n"
   ]
  },
  {
   "cell_type": "code",
   "execution_count": null,
   "metadata": {},
   "outputs": [],
   "source": [
    "# import numpy as np\n",
    "# from sklearn.preprocessing import MinMaxScaler\n",
    "\n",
    "np.random.seed(0)\n",
    "# linearity1 = np.random.standard_t(24, 25)\n",
    "# np.random.seed(1)\n",
    "# linearity2 = np.random.standard_t(24, 25)\n",
    "\n",
    "# # import matplotlib.pyplot as plt\n",
    "# import pandas as pd\n",
    "\n",
    "# linearity1 = pd.DataFrame(linearity1)\n",
    "# linearity2 = pd.DataFrame(linearity2)\n",
    "\n",
    "# min_max = MinMaxScaler()\n",
    "\n",
    "# linearity1[1] = min_max.fit_transform(linearity1[0].values.reshape(-1,1))\n",
    "# linearity2[1] = min_max.fit_transform(linearity2[0].values.reshape(-1,1))\n",
    "\n",
    "# linearity1[1] = linearity1[1].apply(lambda x:round(x, 4))\n",
    "# linearity2[1] = linearity2[1].apply(lambda x:round(x, 4))"
   ]
  }
 ],
 "metadata": {
  "kernelspec": {
   "display_name": "Python 3",
   "language": "python",
   "name": "python3"
  },
  "language_info": {
   "codemirror_mode": {
    "name": "ipython",
    "version": 3
   },
   "file_extension": ".py",
   "mimetype": "text/x-python",
   "name": "python",
   "nbconvert_exporter": "python",
   "pygments_lexer": "ipython3",
   "version": "3.8.5"
  }
 },
 "nbformat": 4,
 "nbformat_minor": 4
}
