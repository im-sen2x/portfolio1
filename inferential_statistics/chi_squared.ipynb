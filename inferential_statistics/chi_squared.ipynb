{
 "cells": [
  {
   "cell_type": "markdown",
   "metadata": {},
   "source": [
    "# **Chi - squared Test**"
   ]
  },
  {
   "cell_type": "markdown",
   "metadata": {},
   "source": [
    "## **Goodness of Fit**"
   ]
  },
  {
   "cell_type": "markdown",
   "metadata": {},
   "source": [
    "## **Problem Statement**\n",
    "\n",
    "As the newly promoted Director of Sales Enablement you were worried that the number of deals for Q3 of 2021 went down. Your intuition tells you this might be because the Total Rep Activities for each segment is low. So you asked your Business Analysts to check if the Total Rep Activities for Q3 2021 is really low since the Total Rep Activities in each segment for the previous Q3s were generally stable. "
   ]
  },
  {
   "cell_type": "markdown",
   "metadata": {},
   "source": [
    "### **Dataset**\n",
    "\n",
    "We'll be using dummy samples that contains the Reps Total Activity Count for each segment"
   ]
  },
  {
   "cell_type": "markdown",
   "metadata": {},
   "source": [
    "### **Hypothesis Testing**\n",
    "\n",
    "<i>**H0 (Null Hypothesis)**:</i><br>\n",
    "<i>μ-q3_current_total_activities = μ-q3_previous_total_activities</i><br>\n",
    "<i>**H1 (Alternative Hypothesis):**</i><br>\n",
    "<i>μ-q3_previous_total_activities > μ-q3_current_total_activities</i><br>\n",
    "<i>**X^2:** Chi - Squared</i><br>\n",
    "<i>**Of:** Observed Frequency</i><br>\n",
    "<i>**Ef:** Expected Frequency</i><br>"
   ]
  },
  {
   "cell_type": "markdown",
   "metadata": {},
   "source": [
    "$$\\chi^2 = \\sum{\\frac{(O_{f} - E_{f})^2} {E_{f}}}$$\n",
    "\n",
    "\n"
   ]
  },
  {
   "cell_type": "markdown",
   "metadata": {},
   "source": [
    "### **Action**\n",
    "\n",
    "Proceed with a Chi-Squared goodness of fit test and see if there's statistical evidence that the Total Activities for the current Q3 is lower than previous Q3s and its effect sizes - but in order to do this we'll be tweaking our perspective on the problem. Instead of checking if the Total Activities for the current Q3 is lower, we'll check if the Total Activities in the previous Q3 is higher than the current Q3 numbers.Use **α = 0.05**<br>"
   ]
  },
  {
   "cell_type": "code",
   "execution_count": 9,
   "metadata": {},
   "outputs": [],
   "source": [
    "import pandas as pd\n",
    "import numpy as np\n",
    "\n",
    "import matplotlib.pyplot as plt\n",
    "\n",
    "from scipy.stats import chisquare"
   ]
  },
  {
   "cell_type": "markdown",
   "metadata": {},
   "source": [
    "### **Chi-Squared Goodness of Fit Assumptions**\n",
    "\n",
    "https://www.spss-tutorials.com/chi-square-goodness-of-fit-test/#assumptions<br>\n",
    "\n",
    "1. Independent observations;\n",
    "2. For 2 categories, each expected frequency Ef must be at least 5. For 3+ categories, each Ef must be at least 1 and no more than 20% of all Ef may be smaller than 5."
   ]
  },
  {
   "cell_type": "code",
   "execution_count": 35,
   "metadata": {},
   "outputs": [],
   "source": [
    "total_activities = pd.DataFrame({\n",
    "    'Segment': ['Enterprise', 'Majors', 'MidMarket', 'SMB', 'Strategic Partners', 'Special Accounts'],\n",
    "    'Total Q3 2021 Activities': [528, 531, 379, 1479, 122, 156],\n",
    "    'Total Q3 2020 Activities': [648, 720, 520, 1430, 48, 97]\n",
    "})"
   ]
  },
  {
   "cell_type": "code",
   "execution_count": 50,
   "metadata": {},
   "outputs": [
    {
     "name": "stdout",
     "output_type": "stream",
     "text": [
      "Chi-Squared Statistic =  261.7164\n",
      "p-value =  0.0000\n"
     ]
    }
   ],
   "source": [
    "observed_frequency = total_activities['Total Q3 2021 Activities'].values \n",
    "expected_frequency = total_activities['Total Q3 2020 Activities'].values \n",
    "\n",
    "obs_exp = (observed_frequency - expected_frequency) ** 2 / expected_frequency\n",
    "chi_squared = obs_exp.sum()\n",
    "\n",
    "degrees_of_freedom = 5\n",
    "\n",
    "print(f'Chi-Squared Statistic = {chi_squared: .4f}')\n",
    "print(f'p-value = {1 - chi2.cdf(chi_squared, degrees_of_freedom ): .4f}')"
   ]
  },
  {
   "cell_type": "code",
   "execution_count": 51,
   "metadata": {},
   "outputs": [
    {
     "name": "stdout",
     "output_type": "stream",
     "text": [
      "Chi-Squared Statistic (scipy) =  261.7164\n",
      "p-value (scipy) =  0.0000\n"
     ]
    }
   ],
   "source": [
    "# Check if by-hand Chi Squared Statistic is the same to the Scipy Implementation\n",
    "chi_squared_scipy = chisquare(total_activities['Total Q3 2021 Activities'], total_activities['Total Q3 2020 Activities'])\n",
    "\n",
    "print(f'Chi-Squared Statistic (scipy) = {chi_squared_scipy.statistic: .4f}')\n",
    "print(f'p-value (scipy) = {chi_squared_scipy.pvalue: .4f}')"
   ]
  },
  {
   "cell_type": "markdown",
   "metadata": {},
   "source": [
    "### **Conclusion**\n",
    "\n",
    "Since the p-value of our F-statistic < 0.05 it suggests that we reject the Null Hypothesis. Which indicates that there statistical evidence that at least one combination amongst our Routing Solutions fairs better or worse than the other solution. We now proceed to find which solution/s reduces our driver's Time to Complete by using effect size tests."
   ]
  },
  {
   "cell_type": "code",
   "execution_count": 11,
   "metadata": {},
   "outputs": [],
   "source": [
    "# Check sample normality - samplers are approximately normal"
   ]
  },
  {
   "cell_type": "code",
   "execution_count": 12,
   "metadata": {},
   "outputs": [
    {
     "data": {
      "text/plain": [
       "Text(0.5, 1.0, 'Non-AI assisted')"
      ]
     },
     "execution_count": 12,
     "metadata": {},
     "output_type": "execute_result"
    },
    {
     "data": {
      "image/png": "[encoded data removed]",
      "text/plain": [
       "<Figure size 432x288 with 1 Axes>"
      ]
     },
     "metadata": {
      "needs_background": "light"
     },
     "output_type": "display_data"
    }
   ],
   "source": [
    "time_to_completion['Non-AI assisted'].hist()\n",
    "plt.title('Non-AI assisted')"
   ]
  },
  {
   "cell_type": "code",
   "execution_count": 13,
   "metadata": {},
   "outputs": [
    {
     "data": {
      "text/plain": [
       "Text(0.5, 1.0, 'Assisted with AI 1')"
      ]
     },
     "execution_count": 13,
     "metadata": {},
     "output_type": "execute_result"
    },
    {
     "data": {
      "image/png": "[encoded data removed]",
      "text/plain": [
       "<Figure size 432x288 with 1 Axes>"
      ]
     },
     "metadata": {
      "needs_background": "light"
     },
     "output_type": "display_data"
    }
   ],
   "source": [
    "time_to_completion.loc[time_to_completion['Assisted with AI 1'] != -1,\n",
    "                      'Assisted with AI 1'].hist()\n",
    "plt.title('Assisted with AI 1')"
   ]
  },
  {
   "cell_type": "code",
   "execution_count": 14,
   "metadata": {},
   "outputs": [
    {
     "data": {
      "text/plain": [
       "Text(0.5, 1.0, 'Assisted with AI 2')"
      ]
     },
     "execution_count": 14,
     "metadata": {},
     "output_type": "execute_result"
    },
    {
     "data": {
      "image/png": "[encoded data removed]",
      "text/plain": [
       "<Figure size 432x288 with 1 Axes>"
      ]
     },
     "metadata": {
      "needs_background": "light"
     },
     "output_type": "display_data"
    }
   ],
   "source": [
    "time_to_completion.loc[time_to_completion['Assisted with AI 2'] != -1,\n",
    "                      'Assisted with AI 2'].hist()\n",
    "plt.title('Assisted with AI 2')"
   ]
  },
  {
   "cell_type": "code",
   "execution_count": 17,
   "metadata": {},
   "outputs": [
    {
     "name": "stdout",
     "output_type": "stream",
     "text": [
      "F-statistic =  37.0104\n",
      "p-value = 8.43769498715119e-15\n"
     ]
    }
   ],
   "source": [
    "mean_non_ai = np.mean(time_to_completion['Non-AI assisted'].values)\n",
    "\n",
    "mean_ai1 =  np.mean(time_to_completion.loc[time_to_completion['Assisted with AI 1'] != -1,\n",
    "                  'Assisted with AI 1'].values)\n",
    "mean_ai2 = np.mean(time_to_completion.loc[time_to_completion['Assisted with AI 2'] != -1,\n",
    "                  'Assisted with AI 2'].values)\n",
    "\n",
    "group_mean = np.mean([mean_non_ai, mean_ai1, mean_ai2])\n",
    "\n",
    "ss_between = 90 * ((mean_non_ai - group_mean) ** 2) + \\\n",
    "             81 * ((mean_ai1 - group_mean) ** 2) + \\\n",
    "             81 * ((mean_ai2 - group_mean) ** 2)\n",
    "\n",
    "ss_within = np.sum((time_to_completion['Non-AI assisted'].values - mean_non_ai) ** 2) + \\\n",
    "            np.sum((time_to_completion.loc[time_to_completion['Assisted with AI 1'] != -1,\n",
    "                  'Assisted with AI 1'].values - mean_ai1) ** 2) + \\\n",
    "            np.sum((time_to_completion.loc[time_to_completion['Assisted with AI 2'] != -1,\n",
    "                  'Assisted with AI 2'].values - mean_ai2) ** 2)\n",
    "\n",
    "N = 90 + 81 + 81\n",
    "df1 = 2\n",
    "df2 = N - 3\n",
    "\n",
    "MSS_between = ss_between / df1\n",
    "MSS_within = ss_within / df2\n",
    "\n",
    "print(f'F-statistic = {MSS_between / MSS_within: .4f}')\n",
    "print(f'p-value = {1 - f.cdf(MSS_between / MSS_within, df1, df2)}')"
   ]
  },
  {
   "cell_type": "code",
   "execution_count": 19,
   "metadata": {},
   "outputs": [
    {
     "name": "stdout",
     "output_type": "stream",
     "text": [
      "F-statistic (scipy) =  36.9419\n",
      "p-value (scipy) = 8.924262286415934e-15\n"
     ]
    }
   ],
   "source": [
    "# Check if by-hand F-statistic is the same to the Scipy Implementation\n",
    "\n",
    "f_results = f_oneway(\n",
    "    time_to_completion['Non-AI assisted'],\n",
    "    time_to_completion.loc[time_to_completion['Assisted with AI 1'] != -1,\n",
    "                  'Assisted with AI 1'].values,\n",
    "    time_to_completion.loc[time_to_completion['Assisted with AI 2'] != -1,\n",
    "                  'Assisted with AI 2'].values    \n",
    ")\n",
    "\n",
    "print(f'F-statistic (scipy) = {f_results.statistic: .4f}')\n",
    "print(f'p-value (scipy) = {f_results.pvalue}')"
   ]
  },
  {
   "cell_type": "markdown",
   "metadata": {},
   "source": [
    "### **Conclusion**\n",
    "\n",
    "Since the p-value of our F-statistic < 0.05 it suggests that we reject the Null Hypothesis. Which indicates that there statistical evidence that at least one combination amongst our Routing Solutions fairs better or worse than the other solution. We now proceed to find which solution/s reduces our driver's Time to Complete by using effect size tests."
   ]
  },
  {
   "cell_type": "markdown",
   "metadata": {},
   "source": [
    "### **Effect Size**"
   ]
  },
  {
   "cell_type": "markdown",
   "metadata": {},
   "source": [
    "### Tukey / Tukey - Kramer Test"
   ]
  },
  {
   "cell_type": "markdown",
   "metadata": {},
   "source": [
    "$$Tukey = q . \\sqrt{\\frac{MSS_{within}} {2} . ({\\frac{1} {n_{1}} + {\\frac{1} {n_{2}}})}}$$ <br>"
   ]
  },
  {
   "cell_type": "markdown",
   "metadata": {},
   "source": [
    "### Q-Table for Tukey\n",
    "\n",
    "https://www2.stat.duke.edu/courses/Spring98/sta110c/qtable.html"
   ]
  },
  {
   "cell_type": "code",
   "execution_count": 37,
   "metadata": {},
   "outputs": [],
   "source": [
    "# Use α = 0.05\n",
    "\n",
    "qcrit1 = 2.77 * np.sqrt((MSS_within / 2) * ((1 / 90 ) + (1 / 81)))\n",
    "qcrit2 = 2.77 * np.sqrt((MSS_within / 2) * ((1 / 90 ) + (1 / 81)))\n",
    "qcrit3 = 2.77 * np.sqrt((MSS_within / 2) * ((1 / 81 ) + (1 / 81)))"
   ]
  },
  {
   "cell_type": "code",
   "execution_count": 38,
   "metadata": {},
   "outputs": [
    {
     "name": "stdout",
     "output_type": "stream",
     "text": [
      "0.44978898489367375 0.44978898489367375 0.46147376150726566\n"
     ]
    }
   ],
   "source": [
    "print(qcrit1, qcrit2, qcrit3)"
   ]
  },
  {
   "cell_type": "code",
   "execution_count": 40,
   "metadata": {},
   "outputs": [
    {
     "data": {
      "text/html": [
       "<div>\n",
       "<style scoped>\n",
       "    .dataframe tbody tr th:only-of-type {\n",
       "        vertical-align: middle;\n",
       "    }\n",
       "\n",
       "    .dataframe tbody tr th {\n",
       "        vertical-align: top;\n",
       "    }\n",
       "\n",
       "    .dataframe thead th {\n",
       "        text-align: right;\n",
       "    }\n",
       "</style>\n",
       "<table border=\"1\" class=\"dataframe\">\n",
       "  <thead>\n",
       "    <tr style=\"text-align: right;\">\n",
       "      <th></th>\n",
       "      <th>Name</th>\n",
       "      <th>Mean Difference</th>\n",
       "      <th>Q-Critical</th>\n",
       "    </tr>\n",
       "  </thead>\n",
       "  <tbody>\n",
       "    <tr>\n",
       "      <th>0</th>\n",
       "      <td>Non-AI vs AI1</td>\n",
       "      <td>0.963538</td>\n",
       "      <td>0.449789</td>\n",
       "    </tr>\n",
       "    <tr>\n",
       "      <th>1</th>\n",
       "      <td>Non-AI vs AI2</td>\n",
       "      <td>1.973601</td>\n",
       "      <td>0.449789</td>\n",
       "    </tr>\n",
       "    <tr>\n",
       "      <th>2</th>\n",
       "      <td>AI1 vs AI2</td>\n",
       "      <td>1.010063</td>\n",
       "      <td>0.461474</td>\n",
       "    </tr>\n",
       "  </tbody>\n",
       "</table>\n",
       "</div>"
      ],
      "text/plain": [
       "            Name  Mean Difference  Q-Critical\n",
       "0  Non-AI vs AI1         0.963538    0.449789\n",
       "1  Non-AI vs AI2         1.973601    0.449789\n",
       "2     AI1 vs AI2         1.010063    0.461474"
      ]
     },
     "execution_count": 40,
     "metadata": {},
     "output_type": "execute_result"
    }
   ],
   "source": [
    "tukey_results = pd.DataFrame({\n",
    "    'Name': ['Non-AI vs AI1', 'Non-AI vs AI2', 'AI1 vs AI2'],\n",
    "    'Mean Difference': [mean_non_ai - mean_ai1, mean_non_ai - mean_ai2, mean_ai1 - mean_ai2],\n",
    "    'Q-Critical': [qcrit1, qcrit2, qcrit3]    \n",
    "})\n",
    "\n",
    "tukey_results "
   ]
  },
  {
   "cell_type": "markdown",
   "metadata": {},
   "source": [
    "### **Conclusion**\n",
    "\n",
    "Since the Mean Difference across our solutions is greater than their respective critical thresholds - that means drivers using :\n",
    "\n",
    "AI1's Routing Solution generally finishes their deliveries faster than Non-AI drivers<br>\n",
    "AI2's Routing Solution generally finishes their deliveries faster than Non-AI drivers<br>\n",
    "AI2's Routing Solution generally finishes their deliveries faster than AI2 drivers<br>"
   ]
  },
  {
   "cell_type": "markdown",
   "metadata": {},
   "source": [
    "### η^2"
   ]
  },
  {
   "cell_type": "markdown",
   "metadata": {},
   "source": [
    "$$η^2 = \\frac{MSS_{between}} {MSS_{between} + MSS_{within}} $$ <br>"
   ]
  },
  {
   "cell_type": "code",
   "execution_count": 196,
   "metadata": {},
   "outputs": [
    {
     "name": "stdout",
     "output_type": "stream",
     "text": [
      "η^2:  0.9737\n"
     ]
    }
   ],
   "source": [
    "eta_2 = MSS_between / (MSS_between + MSS_within)\n",
    "print(f'η^2: {eta_2: .4f}')"
   ]
  },
  {
   "cell_type": "markdown",
   "metadata": {},
   "source": [
    "### **Conclusion**\n",
    "\n",
    "97% of the difference in mean Time to Complete Rates are brought about the different routing solutions"
   ]
  }
 ],
 "metadata": {
  "kernelspec": {
   "display_name": "Python 3",
   "language": "python",
   "name": "python3"
  },
  "language_info": {
   "codemirror_mode": {
    "name": "ipython",
    "version": 3
   },
   "file_extension": ".py",
   "mimetype": "text/x-python",
   "name": "python",
   "nbconvert_exporter": "python",
   "pygments_lexer": "ipython3",
   "version": "3.8.8"
  }
 },
 "nbformat": 4,
 "nbformat_minor": 4
}
