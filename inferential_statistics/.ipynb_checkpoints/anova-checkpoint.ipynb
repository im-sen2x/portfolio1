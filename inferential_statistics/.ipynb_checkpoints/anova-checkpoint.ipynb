{
 "cells": [
  {
   "cell_type": "markdown",
   "metadata": {},
   "source": [
    "# **ANOVA**"
   ]
  },
  {
   "cell_type": "markdown",
   "metadata": {},
   "source": [
    "## **Problem Statement**\n",
    "\n",
    "Imagine you just got promoted as the Director of Delivery and Transportation of an E-commerce company. It's the company's pain point that the driver's tend to work overtime since they can't deliver all the parcel's within the 8 hour work schedule. So you've initiated a project that reduces the average time completion of driver's using AI assisted routing. Using ANOVA Check whether the time completion of drivers got faster using AI assisted routes."
   ]
  },
  {
   "cell_type": "markdown",
   "metadata": {},
   "source": [
    "### **Dataset**\n",
    "\n",
    "We'll be using dummy samples that contain 81 - 90 Average Time Completion of Delivery Drivers for a duration of 30 days"
   ]
  },
  {
   "cell_type": "markdown",
   "metadata": {},
   "source": [
    "### **Hypothesis Testing**\n",
    "\n",
    "<i>**H0 (Null Hypothesis)**:</i><br>\n",
    "<i>μ-non_ai_assisted = μ-ai_assisted1 = μ-ai_assisted2</i><br>\n",
    "<i>**H1 (Alternative Hypothesis):**</i><br>\n",
    "<i>μ-non_ai_assisted != μ-ai_assisted1</i><br>\n",
    "<i>μ-non_ai_assisted != μ-ai_assisted2</i><br>\n",
    "<i>μ-ai_assisted1 != μ-ai_assisted2</i><br>\n",
    "<i>**F:** F-statistic</i><br>\n",
    "<i>**MSS:** Mean Sum of Squares</i><br>\n",
    "<i>**n:** Samples within a group</i><br>\n",
    "<i>**N:** Total Samples<i>"
   ]
  },
  {
   "cell_type": "markdown",
   "metadata": {},
   "source": [
    "$$F = \\frac{MSS_{between}} {MSS_{within}} $$ <br>\n",
    "$$MSS_{between} = \\frac{n * \\sum{(\\bar{x_{i}} - \\bar{x_{g}})^2}} {Treatment_{groups} - 1}$$ <br>\n",
    "$$MSS_{within} = \\frac{\\sum{(x_{ij} - \\bar{x_{i}})}^2} {N - Treatment_{groups}}$$\n",
    "\n",
    "\n"
   ]
  },
  {
   "cell_type": "markdown",
   "metadata": {},
   "source": [
    "### **Action**\n",
    "\n",
    "Proceed with a one-way ANOVA, Tukey Test, and η² to see if there's statistical evidence that AI routing solutions reduces the average Time to Complete of the drivers and its effect sizes. Use **α = 0.05**<br>"
   ]
  },
  {
   "cell_type": "code",
   "execution_count": 1,
   "metadata": {},
   "outputs": [],
   "source": [
    "import pandas as pd\n",
    "import numpy as np\n",
    "\n",
    "import matplotlib.pyplot as plt\n",
    "\n",
    "from scipy.stats import f_oneway\n",
    "from scipy.stats import f"
   ]
  },
  {
   "cell_type": "code",
   "execution_count": 3,
   "metadata": {},
   "outputs": [],
   "source": [
    "time_to_completion = pd.read_excel('datasets/time_to_close.xlsx')"
   ]
  },
  {
   "cell_type": "code",
   "execution_count": 4,
   "metadata": {},
   "outputs": [
    {
     "data": {
      "text/html": [
       "<div>\n",
       "<style scoped>\n",
       "    .dataframe tbody tr th:only-of-type {\n",
       "        vertical-align: middle;\n",
       "    }\n",
       "\n",
       "    .dataframe tbody tr th {\n",
       "        vertical-align: top;\n",
       "    }\n",
       "\n",
       "    .dataframe thead th {\n",
       "        text-align: right;\n",
       "    }\n",
       "</style>\n",
       "<table border=\"1\" class=\"dataframe\">\n",
       "  <thead>\n",
       "    <tr style=\"text-align: right;\">\n",
       "      <th></th>\n",
       "      <th>Non-AI assisted</th>\n",
       "      <th>Assisted with AI 1</th>\n",
       "      <th>Assisted with AI 2</th>\n",
       "    </tr>\n",
       "  </thead>\n",
       "  <tbody>\n",
       "    <tr>\n",
       "      <th>0</th>\n",
       "      <td>11.436518</td>\n",
       "      <td>10.098106</td>\n",
       "      <td>5.091162</td>\n",
       "    </tr>\n",
       "    <tr>\n",
       "      <th>1</th>\n",
       "      <td>8.082365</td>\n",
       "      <td>-1.000000</td>\n",
       "      <td>-1.000000</td>\n",
       "    </tr>\n",
       "    <tr>\n",
       "      <th>2</th>\n",
       "      <td>8.207742</td>\n",
       "      <td>7.343251</td>\n",
       "      <td>7.754777</td>\n",
       "    </tr>\n",
       "    <tr>\n",
       "      <th>3</th>\n",
       "      <td>7.390547</td>\n",
       "      <td>6.882222</td>\n",
       "      <td>8.939839</td>\n",
       "    </tr>\n",
       "    <tr>\n",
       "      <th>4</th>\n",
       "      <td>10.298111</td>\n",
       "      <td>8.741115</td>\n",
       "      <td>6.834329</td>\n",
       "    </tr>\n",
       "  </tbody>\n",
       "</table>\n",
       "</div>"
      ],
      "text/plain": [
       "   Non-AI assisted  Assisted with AI 1  Assisted with AI 2\n",
       "0        11.436518           10.098106            5.091162\n",
       "1         8.082365           -1.000000           -1.000000\n",
       "2         8.207742            7.343251            7.754777\n",
       "3         7.390547            6.882222            8.939839\n",
       "4        10.298111            8.741115            6.834329"
      ]
     },
     "execution_count": 4,
     "metadata": {},
     "output_type": "execute_result"
    }
   ],
   "source": [
    "time_to_completion.head()"
   ]
  },
  {
   "cell_type": "code",
   "execution_count": 5,
   "metadata": {},
   "outputs": [
    {
     "data": {
      "text/plain": [
       "count    90.000000\n",
       "mean      9.090160\n",
       "std       1.378761\n",
       "min       5.547692\n",
       "25%       8.053971\n",
       "50%       9.127362\n",
       "75%      10.066251\n",
       "max      12.278363\n",
       "Name: Non-AI assisted, dtype: float64"
      ]
     },
     "execution_count": 5,
     "metadata": {},
     "output_type": "execute_result"
    }
   ],
   "source": [
    "time_to_completion['Non-AI assisted'].describe()"
   ]
  },
  {
   "cell_type": "code",
   "execution_count": 6,
   "metadata": {},
   "outputs": [
    {
     "data": {
      "text/plain": [
       "<AxesSubplot:>"
      ]
     },
     "execution_count": 6,
     "metadata": {},
     "output_type": "execute_result"
    },
    {
     "data": {
      "image/png": "[encoded data removed]",
      "text/plain": [
       "<Figure size 432x288 with 1 Axes>"
      ]
     },
     "metadata": {
      "needs_background": "light"
     },
     "output_type": "display_data"
    }
   ],
   "source": [
    "time_to_completion['Non-AI assisted'].hist()"
   ]
  },
  {
   "cell_type": "code",
   "execution_count": 7,
   "metadata": {},
   "outputs": [
    {
     "data": {
      "text/plain": [
       "count    81.000000\n",
       "mean      8.126622\n",
       "std       1.593167\n",
       "min       3.739034\n",
       "25%       7.343251\n",
       "50%       8.076421\n",
       "75%       9.194465\n",
       "max      11.833725\n",
       "Name: Assisted with AI 1, dtype: float64"
      ]
     },
     "execution_count": 7,
     "metadata": {},
     "output_type": "execute_result"
    }
   ],
   "source": [
    "time_to_completion.loc[time_to_completion['Assisted with AI 1'] != -1,\n",
    "                      'Assisted with AI 1'].describe()"
   ]
  },
  {
   "cell_type": "code",
   "execution_count": 8,
   "metadata": {},
   "outputs": [
    {
     "data": {
      "text/plain": [
       "<AxesSubplot:>"
      ]
     },
     "execution_count": 8,
     "metadata": {},
     "output_type": "execute_result"
    },
    {
     "data": {
      "image/png": "[encoded data removed]",
      "text/plain": [
       "<Figure size 432x288 with 1 Axes>"
      ]
     },
     "metadata": {
      "needs_background": "light"
     },
     "output_type": "display_data"
    }
   ],
   "source": [
    "time_to_completion.loc[time_to_completion['Assisted with AI 1'] != -1,\n",
    "                      'Assisted with AI 1'].hist()"
   ]
  },
  {
   "cell_type": "code",
   "execution_count": 9,
   "metadata": {},
   "outputs": [
    {
     "data": {
      "text/plain": [
       "count    81.000000\n",
       "mean      7.116559\n",
       "std       1.531094\n",
       "min       2.810372\n",
       "25%       6.120214\n",
       "50%       7.193652\n",
       "75%       7.991530\n",
       "max      10.674053\n",
       "Name: Assisted with AI 2, dtype: float64"
      ]
     },
     "execution_count": 9,
     "metadata": {},
     "output_type": "execute_result"
    }
   ],
   "source": [
    "time_to_completion.loc[time_to_completion['Assisted with AI 2'] != -1,\n",
    "                      'Assisted with AI 2'].describe()"
   ]
  },
  {
   "cell_type": "code",
   "execution_count": 10,
   "metadata": {},
   "outputs": [
    {
     "data": {
      "text/plain": [
       "<AxesSubplot:>"
      ]
     },
     "execution_count": 10,
     "metadata": {},
     "output_type": "execute_result"
    },
    {
     "data": {
      "image/png": "[encoded data removed]",
      "text/plain": [
       "<Figure size 432x288 with 1 Axes>"
      ]
     },
     "metadata": {
      "needs_background": "light"
     },
     "output_type": "display_data"
    }
   ],
   "source": [
    "time_to_completion.loc[time_to_completion['Assisted with AI 2'] != -1,\n",
    "                      'Assisted with AI 2'].hist()"
   ]
  },
  {
   "cell_type": "code",
   "execution_count": 61,
   "metadata": {},
   "outputs": [
    {
     "data": {
      "text/plain": [
       "Non-AI assisted       1.0\n",
       "Assisted with AI 1    1.0\n",
       "Assisted with AI 2    1.0\n",
       "dtype: float64"
      ]
     },
     "execution_count": 61,
     "metadata": {},
     "output_type": "execute_result"
    }
   ],
   "source": [
    "# Check the fill rate - no missing values\n",
    "\n",
    "time_to_completion.notna().mean()"
   ]
  },
  {
   "cell_type": "markdown",
   "metadata": {},
   "source": [
    "- There are 3 routing solutions: Non-AI assisted, Assisted with AI 1, and Assisted with AI 2\n",
    "- The samples across the routing solutions are not equal \n",
    "    - Non-AI assisted: 90\n",
    "    - Assisted with AI 1: 81\n",
    "    - Assisted with AI 2: 81\n",
    "- The means and the standard deviation across the three routing solutions are almost the same"
   ]
  },
  {
   "cell_type": "markdown",
   "metadata": {},
   "source": [
    "### **ANOVA Assumptions**\n",
    "\n",
    "https://docs.scipy.org/doc/scipy/reference/generated/scipy.stats.f_oneway.html<br>\n",
    "\n",
    "1. The samples are independent.\n",
    "2. Each sample is from a normally distributed population.\n",
    "3. The population standard deviations of the groups are all equal. This property is known as homoscedasticity."
   ]
  },
  {
   "cell_type": "code",
   "execution_count": 11,
   "metadata": {},
   "outputs": [],
   "source": [
    "# Check sample normality - samples are approximately normal"
   ]
  },
  {
   "cell_type": "code",
   "execution_count": 12,
   "metadata": {},
   "outputs": [
    {
     "data": {
      "text/plain": [
       "Text(0.5, 1.0, 'Non-AI assisted')"
      ]
     },
     "execution_count": 12,
     "metadata": {},
     "output_type": "execute_result"
    },
    {
     "data": {
      "image/png": "[encoded data removed]",
      "text/plain": [
       "<Figure size 432x288 with 1 Axes>"
      ]
     },
     "metadata": {
      "needs_background": "light"
     },
     "output_type": "display_data"
    }
   ],
   "source": [
    "time_to_completion['Non-AI assisted'].hist()\n",
    "plt.title('Non-AI assisted')"
   ]
  },
  {
   "cell_type": "code",
   "execution_count": 13,
   "metadata": {},
   "outputs": [
    {
     "data": {
      "text/plain": [
       "Text(0.5, 1.0, 'Assisted with AI 1')"
      ]
     },
     "execution_count": 13,
     "metadata": {},
     "output_type": "execute_result"
    },
    {
     "data": {
      "image/png": "[encoded data removed]",
      "text/plain": [
       "<Figure size 432x288 with 1 Axes>"
      ]
     },
     "metadata": {
      "needs_background": "light"
     },
     "output_type": "display_data"
    }
   ],
   "source": [
    "time_to_completion.loc[time_to_completion['Assisted with AI 1'] != -1,\n",
    "                      'Assisted with AI 1'].hist()\n",
    "plt.title('Assisted with AI 1')"
   ]
  },
  {
   "cell_type": "code",
   "execution_count": 14,
   "metadata": {},
   "outputs": [
    {
     "data": {
      "text/plain": [
       "Text(0.5, 1.0, 'Assisted with AI 2')"
      ]
     },
     "execution_count": 14,
     "metadata": {},
     "output_type": "execute_result"
    },
    {
     "data": {
      "image/png": "[encoded data removed]",
      "text/plain": [
       "<Figure size 432x288 with 1 Axes>"
      ]
     },
     "metadata": {
      "needs_background": "light"
     },
     "output_type": "display_data"
    }
   ],
   "source": [
    "time_to_completion.loc[time_to_completion['Assisted with AI 2'] != -1,\n",
    "                      'Assisted with AI 2'].hist()\n",
    "plt.title('Assisted with AI 2')"
   ]
  },
  {
   "cell_type": "code",
   "execution_count": 17,
   "metadata": {},
   "outputs": [
    {
     "name": "stdout",
     "output_type": "stream",
     "text": [
      "F-statistic =  37.0104\n",
      "p-value = 8.43769498715119e-15\n"
     ]
    }
   ],
   "source": [
    "mean_non_ai = np.mean(time_to_completion['Non-AI assisted'].values)\n",
    "\n",
    "mean_ai1 =  np.mean(time_to_completion.loc[time_to_completion['Assisted with AI 1'] != -1,\n",
    "                  'Assisted with AI 1'].values)\n",
    "mean_ai2 = np.mean(time_to_completion.loc[time_to_completion['Assisted with AI 2'] != -1,\n",
    "                  'Assisted with AI 2'].values)\n",
    "\n",
    "group_mean = np.mean([mean_non_ai, mean_ai1, mean_ai2])\n",
    "\n",
    "ss_between = 90 * ((mean_non_ai - group_mean) ** 2) + \\\n",
    "             81 * ((mean_ai1 - group_mean) ** 2) + \\\n",
    "             81 * ((mean_ai2 - group_mean) ** 2)\n",
    "\n",
    "ss_within = np.sum((time_to_completion['Non-AI assisted'].values - mean_non_ai) ** 2) + \\\n",
    "            np.sum((time_to_completion.loc[time_to_completion['Assisted with AI 1'] != -1,\n",
    "                  'Assisted with AI 1'].values - mean_ai1) ** 2) + \\\n",
    "            np.sum((time_to_completion.loc[time_to_completion['Assisted with AI 2'] != -1,\n",
    "                  'Assisted with AI 2'].values - mean_ai2) ** 2)\n",
    "\n",
    "N = 90 + 81 + 81\n",
    "df1 = 2\n",
    "df2 = N - 3\n",
    "\n",
    "MSS_between = ss_between / df1\n",
    "MSS_within = ss_within / df2\n",
    "\n",
    "print(f'F-statistic = {MSS_between / MSS_within: .4f}')\n",
    "print(f'p-value = {1 - f.cdf(MSS_between / MSS_within, df1, df2)}')"
   ]
  },
  {
   "cell_type": "code",
   "execution_count": 19,
   "metadata": {},
   "outputs": [
    {
     "name": "stdout",
     "output_type": "stream",
     "text": [
      "F-statistic (scipy) =  36.9419\n",
      "p-value (scipy) = 8.924262286415934e-15\n"
     ]
    }
   ],
   "source": [
    "# Check if by-hand F-statistic is the same to the Scipy Implementation\n",
    "\n",
    "f_results = f_oneway(\n",
    "    time_to_completion['Non-AI assisted'],\n",
    "    time_to_completion.loc[time_to_completion['Assisted with AI 1'] != -1,\n",
    "                  'Assisted with AI 1'].values,\n",
    "    time_to_completion.loc[time_to_completion['Assisted with AI 2'] != -1,\n",
    "                  'Assisted with AI 2'].values    \n",
    ")\n",
    "\n",
    "print(f'F-statistic (scipy) = {f_results.statistic: .4f}')\n",
    "print(f'p-value (scipy) = {f_results.pvalue}')"
   ]
  },
  {
   "cell_type": "markdown",
   "metadata": {},
   "source": [
    "### **Conclusion**\n",
    "\n",
    "Since the p-value of our F-statistic < 0.05 it suggests that we reject the Null Hypothesis. Which indicates that there statistical evidence that at least one combination amongst our Routing Solutions fairs better or worse than the other solution. We now proceed to find which solution/s reduces our driver's Time to Complete by using effect size tests."
   ]
  },
  {
   "cell_type": "markdown",
   "metadata": {},
   "source": [
    "### **Effect Size**"
   ]
  },
  {
   "cell_type": "markdown",
   "metadata": {},
   "source": [
    "### Tukey / Tukey - Kramer Test"
   ]
  },
  {
   "cell_type": "markdown",
   "metadata": {},
   "source": [
    "$$Tukey = q . \\sqrt{\\frac{MSS_{within}} {2} . ({\\frac{1} {n_{1}} + {\\frac{1} {n_{2}}})}}$$ <br>"
   ]
  },
  {
   "cell_type": "markdown",
   "metadata": {},
   "source": [
    "### Q-Table for Tukey\n",
    "\n",
    "https://www2.stat.duke.edu/courses/Spring98/sta110c/qtable.html"
   ]
  },
  {
   "cell_type": "code",
   "execution_count": 37,
   "metadata": {},
   "outputs": [],
   "source": [
    "# Use α = 0.05\n",
    "\n",
    "qcrit1 = 2.77 * np.sqrt((MSS_within / 2) * ((1 / 90 ) + (1 / 81)))\n",
    "qcrit2 = 2.77 * np.sqrt((MSS_within / 2) * ((1 / 90 ) + (1 / 81)))\n",
    "qcrit3 = 2.77 * np.sqrt((MSS_within / 2) * ((1 / 81 ) + (1 / 81)))"
   ]
  },
  {
   "cell_type": "code",
   "execution_count": 38,
   "metadata": {},
   "outputs": [
    {
     "name": "stdout",
     "output_type": "stream",
     "text": [
      "0.44978898489367375 0.44978898489367375 0.46147376150726566\n"
     ]
    }
   ],
   "source": [
    "print(qcrit1, qcrit2, qcrit3)"
   ]
  },
  {
   "cell_type": "code",
   "execution_count": 40,
   "metadata": {},
   "outputs": [
    {
     "data": {
      "text/html": [
       "<div>\n",
       "<style scoped>\n",
       "    .dataframe tbody tr th:only-of-type {\n",
       "        vertical-align: middle;\n",
       "    }\n",
       "\n",
       "    .dataframe tbody tr th {\n",
       "        vertical-align: top;\n",
       "    }\n",
       "\n",
       "    .dataframe thead th {\n",
       "        text-align: right;\n",
       "    }\n",
       "</style>\n",
       "<table border=\"1\" class=\"dataframe\">\n",
       "  <thead>\n",
       "    <tr style=\"text-align: right;\">\n",
       "      <th></th>\n",
       "      <th>Name</th>\n",
       "      <th>Mean Difference</th>\n",
       "      <th>Q-Critical</th>\n",
       "    </tr>\n",
       "  </thead>\n",
       "  <tbody>\n",
       "    <tr>\n",
       "      <th>0</th>\n",
       "      <td>Non-AI vs AI1</td>\n",
       "      <td>0.963538</td>\n",
       "      <td>0.449789</td>\n",
       "    </tr>\n",
       "    <tr>\n",
       "      <th>1</th>\n",
       "      <td>Non-AI vs AI2</td>\n",
       "      <td>1.973601</td>\n",
       "      <td>0.449789</td>\n",
       "    </tr>\n",
       "    <tr>\n",
       "      <th>2</th>\n",
       "      <td>AI1 vs AI2</td>\n",
       "      <td>1.010063</td>\n",
       "      <td>0.461474</td>\n",
       "    </tr>\n",
       "  </tbody>\n",
       "</table>\n",
       "</div>"
      ],
      "text/plain": [
       "            Name  Mean Difference  Q-Critical\n",
       "0  Non-AI vs AI1         0.963538    0.449789\n",
       "1  Non-AI vs AI2         1.973601    0.449789\n",
       "2     AI1 vs AI2         1.010063    0.461474"
      ]
     },
     "execution_count": 40,
     "metadata": {},
     "output_type": "execute_result"
    }
   ],
   "source": [
    "tukey_results = pd.DataFrame({\n",
    "    'Name': ['Non-AI vs AI1', 'Non-AI vs AI2', 'AI1 vs AI2'],\n",
    "    'Mean Difference': [mean_non_ai - mean_ai1, mean_non_ai - mean_ai2, mean_ai1 - mean_ai2],\n",
    "    'Q-Critical': [qcrit1, qcrit2, qcrit3]    \n",
    "})\n",
    "\n",
    "tukey_results "
   ]
  },
  {
   "cell_type": "markdown",
   "metadata": {},
   "source": [
    "### **Conclusion**\n",
    "\n",
    "Since the Mean Difference across our solutions is greater than their respective critical thresholds - that means drivers using :\n",
    "\n",
    "AI1's Routing Solution generally finishes their deliveries faster than Non-AI drivers<br>\n",
    "AI2's Routing Solution generally finishes their deliveries faster than Non-AI drivers<br>\n",
    "AI2's Routing Solution generally finishes their deliveries faster than AI2 drivers<br>"
   ]
  },
  {
   "cell_type": "markdown",
   "metadata": {},
   "source": [
    "### η^2"
   ]
  },
  {
   "cell_type": "markdown",
   "metadata": {},
   "source": [
    "$$η^2 = \\frac{MSS_{between}} {MSS_{between} + MSS_{within}} $$ <br>"
   ]
  },
  {
   "cell_type": "code",
   "execution_count": 196,
   "metadata": {},
   "outputs": [
    {
     "name": "stdout",
     "output_type": "stream",
     "text": [
      "η^2:  0.9737\n"
     ]
    }
   ],
   "source": [
    "eta_2 = MSS_between / (MSS_between + MSS_within)\n",
    "print(f'η^2: {eta_2: .4f}')"
   ]
  },
  {
   "cell_type": "markdown",
   "metadata": {},
   "source": [
    "### **Conclusion**\n",
    "\n",
    "97% of the difference in mean Time to Complete Rates are brought about the different routing solutions"
   ]
  }
 ],
 "metadata": {
  "kernelspec": {
   "display_name": "Python 3",
   "language": "python",
   "name": "python3"
  },
  "language_info": {
   "codemirror_mode": {
    "name": "ipython",
    "version": 3
   },
   "file_extension": ".py",
   "mimetype": "text/x-python",
   "name": "python",
   "nbconvert_exporter": "python",
   "pygments_lexer": "ipython3",
   "version": "3.8.5"
  }
 },
 "nbformat": 4,
 "nbformat_minor": 4
}
